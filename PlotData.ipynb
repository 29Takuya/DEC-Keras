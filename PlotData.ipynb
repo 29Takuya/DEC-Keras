{
 "cells": [
  {
   "cell_type": "code",
   "execution_count": 35,
   "metadata": {
    "collapsed": true
   },
   "outputs": [],
   "source": [
    "import numpy as np\n",
    "import pickle\n",
    "import pandas as pd\n",
    "%matplotlib inline"
   ]
  },
  {
   "cell_type": "code",
   "execution_count": 38,
   "metadata": {
    "collapsed": false
   },
   "outputs": [
    {
     "name": "stdout",
     "output_type": "stream",
     "text": [
      "合計 42543360\r\n",
      "-rw-r--r-- 1 shimada student    5192528  7月 24 09:07 model_weights.h5\r\n",
      "-rw-r--r-- 1 shimada student       2241  7月 24 09:07 model.json\r\n",
      "-rw-r--r-- 1 shimada student   15548016  7月 24 09:07 DEC_model_1828200.h5\r\n",
      "-rw-r--r-- 1 shimada student 2546134142  7月 24 09:07 c1828200.pkl\r\n",
      "-rw-r--r-- 1 shimada student      35546  7月 24 08:45 PlotData.ipynb\r\n",
      "-rw-r--r-- 1 shimada student   15548016  7月 24 08:13 DEC_model_1706320.h5\r\n",
      "-rw-r--r-- 1 shimada student 2546134142  7月 24 08:13 c1706320.pkl\r\n",
      "-rw-r--r-- 1 shimada student   15548016  7月 24 07:19 DEC_model_1584440.h5\r\n",
      "-rw-r--r-- 1 shimada student 2546134142  7月 24 07:19 c1584440.pkl\r\n",
      "-rw-r--r-- 1 shimada student   15548016  7月 24 06:25 DEC_model_1462560.h5\r\n",
      "-rw-r--r-- 1 shimada student 2546134142  7月 24 06:25 c1462560.pkl\r\n",
      "-rw-r--r-- 1 shimada student   15548016  7月 24 05:31 DEC_model_1340680.h5\r\n",
      "-rw-r--r-- 1 shimada student 2546134142  7月 24 05:31 c1340680.pkl\r\n",
      "-rw-r--r-- 1 shimada student   15548016  7月 24 04:37 DEC_model_1218800.h5\r\n",
      "-rw-r--r-- 1 shimada student 2546134142  7月 24 04:37 c1218800.pkl\r\n",
      "-rw-r--r-- 1 shimada student   15548016  7月 24 03:43 DEC_model_1096920.h5\r\n",
      "-rw-r--r-- 1 shimada student 2546134142  7月 24 03:43 c1096920.pkl\r\n",
      "-rw-r--r-- 1 shimada student   15548016  7月 24 02:49 DEC_model_975040.h5\r\n",
      "-rw-r--r-- 1 shimada student 2546134142  7月 24 02:49 c975040.pkl\r\n",
      "-rw-r--r-- 1 shimada student   15548016  7月 24 01:55 DEC_model_853160.h5\r\n",
      "-rw-r--r-- 1 shimada student 2546134142  7月 24 01:55 c853160.pkl\r\n",
      "-rw-r--r-- 1 shimada student   15548016  7月 24 01:01 DEC_model_731280.h5\r\n",
      "-rw-r--r-- 1 shimada student 2546134142  7月 24 01:01 c731280.pkl\r\n",
      "-rw-r--r-- 1 shimada student   15548016  7月 23 23:43 DEC_model_609400.h5\r\n",
      "-rw-r--r-- 1 shimada student 2546134142  7月 23 23:43 c609400.pkl\r\n",
      "-rw-r--r-- 1 shimada student   15548016  7月 23 22:47 DEC_model_487520.h5\r\n",
      "-rw-r--r-- 1 shimada student 2546134142  7月 23 22:47 c487520.pkl\r\n",
      "-rw-r--r-- 1 shimada student   15548016  7月 23 21:51 DEC_model_365640.h5\r\n",
      "-rw-r--r-- 1 shimada student 2546134142  7月 23 21:51 c365640.pkl\r\n",
      "-rw-r--r-- 1 shimada student   15548016  7月 23 20:57 DEC_model_243760.h5\r\n",
      "-rw-r--r-- 1 shimada student 2546134142  7月 23 20:57 c243760.pkl\r\n",
      "-rw-r--r-- 1 shimada student   15548016  7月 23 20:03 DEC_model_121880.h5\r\n",
      "-rw-r--r-- 1 shimada student 2546134142  7月 23 20:03 c121880.pkl\r\n",
      "-rw-r--r-- 1 shimada student      38747  7月 23 19:49 CalcFeatures.ipynb\r\n",
      "-rw-r--r-- 1 shimada student   15548016  7月 23 19:09 DEC_model_0.h5\r\n",
      "-rw-r--r-- 1 shimada student 2546134142  7月 23 19:09 c0.pkl\r\n",
      "-rw-r--r-- 1 shimada student        854  7月 23 18:58 example.py\r\n",
      "drwxr-xr-x 2 shimada student       4096  7月 23 18:57 \u001b[0m\u001b[01;34m__pycache__\u001b[0m/\r\n",
      "-rw-r--r-- 1 shimada student   10370092  7月 23 18:54 autoencoder.h5\r\n",
      "-rw-r--r-- 1 shimada student      15091  7月 23 18:52 keras_dec.py\r\n",
      "-rw-r--r-- 1 shimada student   15548016  7月 23 16:56 DEC_model_609425.h5\r\n",
      "-rw-r--r-- 1 shimada student 2546134142  7月 23 16:56 c609425.pkl\r\n",
      "-rw-r--r-- 1 shimada student        211  7月 10 13:50 README.md\r\n",
      "-rw-r--r-- 1 shimada student      35141  7月 10 13:50 LICENSE\r\n"
     ]
    }
   ],
   "source": [
    "ls -lt"
   ]
  },
  {
   "cell_type": "code",
   "execution_count": 39,
   "metadata": {
    "collapsed": false
   },
   "outputs": [],
   "source": [
    "with open('c1828200.pkl', 'rb') as f:\n",
    "    tmp = pickle.load(f)"
   ]
  },
  {
   "cell_type": "code",
   "execution_count": 31,
   "metadata": {
    "collapsed": false
   },
   "outputs": [],
   "source": [
    "df_pred = pd.DataFrame(np.c_[tmp['p'].argmax(1).T,tmp['q'].argmax(1).T], columns=['p', 'q'])"
   ]
  },
  {
   "cell_type": "code",
   "execution_count": 40,
   "metadata": {
    "collapsed": false
   },
   "outputs": [],
   "source": [
    "df_data = pd.DataFrame(np.c_[tmp['p'].argmax(1).T,tmp['q'].argmax(1).T,tmp['z_2d']], columns=['p','q','x', 'y'])\n",
    "df_clusters = pd.DataFrame(tmp['clust_2d'],columns=['x','y'])"
   ]
  },
  {
   "cell_type": "code",
   "execution_count": 41,
   "metadata": {
    "collapsed": false
   },
   "outputs": [
    {
     "data": {
      "text/plain": [
       "<matplotlib.axes._subplots.AxesSubplot at 0x7fc64bfa9470>"
      ]
     },
     "execution_count": 41,
     "metadata": {},
     "output_type": "execute_result"
    },
    {
     "data": {
      "image/png": "[encoded data removed]",
      "text/plain": [
       "<matplotlib.figure.Figure at 0x7fc64a264400>"
      ]
     },
     "metadata": {},
     "output_type": "display_data"
    }
   ],
   "source": [
    "ax=df_data.sample(frac=0.1).plot(kind='scatter', x='x', y='y', color='b',xlim=None, ylim=None)\n",
    "df_clusters.plot(kind='scatter', x='x', y='y', ax =ax, color='r')"
   ]
  },
  {
   "cell_type": "code",
   "execution_count": 46,
   "metadata": {
    "collapsed": false
   },
   "outputs": [
    {
     "data": {
      "text/plain": [
       "<matplotlib.axes._subplots.AxesSubplot at 0x7fded1f0b2b0>"
      ]
     },
     "execution_count": 46,
     "metadata": {},
     "output_type": "execute_result"
    }
   ],
   "source": [
    "df_clusters.plot(kind='scatter', x='x', y='y', ax =ax)"
   ]
  },
  {
   "cell_type": "code",
   "execution_count": 10,
   "metadata": {
    "collapsed": false
   },
   "outputs": [
    {
     "data": {
      "text/plain": [
       "<matplotlib.axes._subplots.AxesSubplot at 0x7fc6378dc748>"
      ]
     },
     "execution_count": 10,
     "metadata": {},
     "output_type": "execute_result"
    },
    {
     "data": {
      "image/png": "[encoded data removed]",
      "text/plain": [
       "<matplotlib.figure.Figure at 0x7fc6378e9550>"
      ]
     },
     "metadata": {},
     "output_type": "display_data"
    }
   ],
   "source": [
    "df_data.sample(frac=0.1).plot(kind='scatter', x='x', y='y', c='q')"
   ]
  },
  {
   "cell_type": "code",
   "execution_count": null,
   "metadata": {
    "collapsed": true
   },
   "outputs": [],
   "source": []
  }
 ],
 "metadata": {
  "kernelspec": {
   "display_name": "Python 3",
   "language": "python",
   "name": "python3"
  },
  "language_info": {
   "codemirror_mode": {
    "name": "ipython",
    "version": 3
   },
   "file_extension": ".py",
   "mimetype": "text/x-python",
   "name": "python",
   "nbconvert_exporter": "python",
   "pygments_lexer": "ipython3",
   "version": "3.6.0"
  }
 },
 "nbformat": 4,
 "nbformat_minor": 2
}
